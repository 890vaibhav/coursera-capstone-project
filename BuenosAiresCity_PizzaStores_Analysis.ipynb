{
    "nbformat_minor": 1, 
    "cells": [
        {
            "source": "#Introduction", 
            "cell_type": "markdown", 
            "metadata": {
                "collapsed": true
            }
        }, 
        {
            "source": "##In this capstone I will analyze distribution of pizza stores in the principal neighborhoods of Buenos Aires, and determine where the density is higher, where are located, if there is, the best rated ones, and conclude the analysis with guidelines for future investors about the most appropiate locations to open a pizza store, and foresee the profiles of each neighborhood. ", 
            "cell_type": "markdown", 
            "metadata": {}
        }, 
        {
            "source": "###Data", 
            "cell_type": "markdown", 
            "metadata": {}
        }, 
        {
            "source": "##The data that will be used for this project will be Foursquare location data, and Instagram like data in final instance to determine ", 
            "cell_type": "markdown", 
            "metadata": {}
        }
    ], 
    "metadata": {
        "kernelspec": {
            "display_name": "Python 3.5", 
            "name": "python3", 
            "language": "python"
        }, 
        "language_info": {
            "mimetype": "text/x-python", 
            "nbconvert_exporter": "python", 
            "version": "3.5.5", 
            "name": "python", 
            "file_extension": ".py", 
            "pygments_lexer": "ipython3", 
            "codemirror_mode": {
                "version": 3, 
                "name": "ipython"
            }
        }
    }, 
    "nbformat": 4
}